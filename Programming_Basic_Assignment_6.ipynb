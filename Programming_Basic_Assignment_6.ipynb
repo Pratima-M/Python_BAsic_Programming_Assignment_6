{
 "cells": [
  {
   "cell_type": "markdown",
   "id": "099b54de",
   "metadata": {},
   "source": [
    "1.\tWrite a Python Program to Display Fibonacci Sequence Using Recursion?"
   ]
  },
  {
   "cell_type": "code",
   "execution_count": 7,
   "id": "c32472be",
   "metadata": {},
   "outputs": [
    {
     "name": "stdout",
     "output_type": "stream",
     "text": [
      "Enter num = 10\n",
      "fibo seq\n",
      "0\n",
      "1\n",
      "1\n",
      "2\n",
      "3\n",
      "5\n",
      "8\n",
      "13\n",
      "21\n",
      "34\n"
     ]
    }
   ],
   "source": [
    "def fibo_recur(n):\n",
    "    if n <= 1 :\n",
    "        return n\n",
    "    else :\n",
    "        return (fibo_recur(n-1)+ fibo_recur(n-2))\n",
    "\n",
    "a = int(input('Enter num = '))\n",
    "if a <= 0 :\n",
    "    print('enter positive number')\n",
    "else :\n",
    "    print('fibo seq')\n",
    "    for i in range(a) :\n",
    "        print (fibo_recur(i))\n",
    "        \n",
    "    "
   ]
  },
  {
   "cell_type": "markdown",
   "id": "459b3fbb",
   "metadata": {},
   "source": [
    "2.\tWrite a Python Program to Find Factorial of Number Using Recursion?"
   ]
  },
  {
   "cell_type": "code",
   "execution_count": 11,
   "id": "e6a564e1",
   "metadata": {},
   "outputs": [
    {
     "name": "stdout",
     "output_type": "stream",
     "text": [
      "enter num = 10\n",
      "factorial of b is : 3628800\n"
     ]
    }
   ],
   "source": [
    "def fact_recur(n):\n",
    "    if n == 1 :\n",
    "        return n\n",
    "    else :\n",
    "        return n*fact_recur(n-1)\n",
    "\n",
    "b = int(input('enter num = '))\n",
    "if b == 1 :\n",
    "    print(b)\n",
    "else:\n",
    "    print('factorial of b is :', fact_recur(b))\n",
    "    "
   ]
  },
  {
   "cell_type": "markdown",
   "id": "368270e2",
   "metadata": {},
   "source": [
    "3.\tWrite a Python Program to calculate your Body Mass Index?"
   ]
  },
  {
   "cell_type": "code",
   "execution_count": 14,
   "id": "62c9a976",
   "metadata": {},
   "outputs": [
    {
     "name": "stdout",
     "output_type": "stream",
     "text": [
      "enter weight = 78\n",
      "enter height = 5\n",
      "ur BMI is 3.12\n"
     ]
    }
   ],
   "source": [
    "weight = int(input('enter weight = '))\n",
    "height = int(input('enter height = '))\n",
    "BMI = print('ur BMI is', round(weight/(height*height),2))"
   ]
  },
  {
   "cell_type": "markdown",
   "id": "f9857585",
   "metadata": {},
   "source": [
    "4.\tWrite a Python Program to calculate the natural logarithm of any number?"
   ]
  },
  {
   "cell_type": "code",
   "execution_count": 15,
   "id": "6b8404e9",
   "metadata": {},
   "outputs": [],
   "source": [
    "import math"
   ]
  },
  {
   "cell_type": "code",
   "execution_count": 17,
   "id": "e29e9a18",
   "metadata": {},
   "outputs": [
    {
     "name": "stdout",
     "output_type": "stream",
     "text": [
      "Enter number = 14\n",
      "2.6390573296152584\n"
     ]
    }
   ],
   "source": [
    "a = int(input('Enter number = '))\n",
    "print(math.log(a))"
   ]
  },
  {
   "cell_type": "markdown",
   "id": "297dccd4",
   "metadata": {},
   "source": [
    "5.\tWrite a Python Program for cube sum of first n natural numbers?"
   ]
  },
  {
   "cell_type": "code",
   "execution_count": 27,
   "id": "691795fb",
   "metadata": {},
   "outputs": [
    {
     "name": "stdout",
     "output_type": "stream",
     "text": [
      "enter num = 10\n",
      "3025\n"
     ]
    }
   ],
   "source": [
    "def cube_sum(n):\n",
    "    sum = 0\n",
    "    for i in range (1,n+1):\n",
    "        sum = sum + i*i*i\n",
    "    return sum\n",
    "\n",
    "num = int(input('enter num = '))\n",
    "print(cube_sum(num))"
   ]
  },
  {
   "cell_type": "code",
   "execution_count": null,
   "id": "f186bc17",
   "metadata": {},
   "outputs": [],
   "source": []
  }
 ],
 "metadata": {
  "kernelspec": {
   "display_name": "Python 3",
   "language": "python",
   "name": "python3"
  },
  "language_info": {
   "codemirror_mode": {
    "name": "ipython",
    "version": 3
   },
   "file_extension": ".py",
   "mimetype": "text/x-python",
   "name": "python",
   "nbconvert_exporter": "python",
   "pygments_lexer": "ipython3",
   "version": "3.8.8"
  }
 },
 "nbformat": 4,
 "nbformat_minor": 5
}
